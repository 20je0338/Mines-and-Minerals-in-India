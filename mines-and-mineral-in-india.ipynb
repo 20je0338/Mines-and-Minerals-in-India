{
 "cells": [
  {
   "cell_type": "code",
   "execution_count": 1,
   "id": "84b58550",
   "metadata": {
    "_cell_guid": "b1076dfc-b9ad-4769-8c92-a6c4dae69d19",
    "_uuid": "8f2839f25d086af736a60e9eeb907d3b93b6e0e5",
    "execution": {
     "iopub.execute_input": "2024-08-16T20:23:32.380353Z",
     "iopub.status.busy": "2024-08-16T20:23:32.379924Z",
     "iopub.status.idle": "2024-08-16T20:23:33.235537Z",
     "shell.execute_reply": "2024-08-16T20:23:33.234428Z"
    },
    "papermill": {
     "duration": 0.8714,
     "end_time": "2024-08-16T20:23:33.238132",
     "exception": false,
     "start_time": "2024-08-16T20:23:32.366732",
     "status": "completed"
    },
    "tags": []
   },
   "outputs": [
    {
     "name": "stdout",
     "output_type": "stream",
     "text": [
      "/kaggle/input/mineral-ores-around-the-world/Mineral ores round the world.csv\n"
     ]
    }
   ],
   "source": [
    "# This Python 3 environment comes with many helpful analytics libraries installed\n",
    "# It is defined by the kaggle/python Docker image: https://github.com/kaggle/docker-python\n",
    "# For example, here's several helpful packages to load\n",
    "\n",
    "import numpy as np # linear algebra\n",
    "import pandas as pd # data processing, CSV file I/O (e.g. pd.read_csv)\n",
    "\n",
    "# Input data files are available in the read-only \"../input/\" directory\n",
    "# For example, running this (by clicking run or pressing Shift+Enter) will list all files under the input directory\n",
    "\n",
    "import os\n",
    "for dirname, _, filenames in os.walk('/kaggle/input'):\n",
    "    for filename in filenames:\n",
    "        print(os.path.join(dirname, filename))\n",
    "\n",
    "# You can write up to 20GB to the current directory (/kaggle/working/) that gets preserved as output when you create a version using \"Save & Run All\" \n",
    "# You can also write temporary files to /kaggle/temp/, but they won't be saved outside of the current session"
   ]
  },
  {
   "cell_type": "code",
   "execution_count": 2,
   "id": "c9391d3e",
   "metadata": {
    "execution": {
     "iopub.execute_input": "2024-08-16T20:23:33.260867Z",
     "iopub.status.busy": "2024-08-16T20:23:33.260071Z",
     "iopub.status.idle": "2024-08-16T20:23:34.073543Z",
     "shell.execute_reply": "2024-08-16T20:23:34.071987Z"
    },
    "papermill": {
     "duration": 0.827037,
     "end_time": "2024-08-16T20:23:34.075764",
     "exception": true,
     "start_time": "2024-08-16T20:23:33.248727",
     "status": "failed"
    },
    "tags": []
   },
   "outputs": [
    {
     "name": "stderr",
     "output_type": "stream",
     "text": [
      "UsageError: Line magic function `%plotly` not found.\n"
     ]
    }
   ],
   "source": [
    "import pandas as pd\n",
    "import matplotlib.pyplot as plt\n",
    "import plotly.express as px\n",
    "import numpy as np\n",
    "import warnings\n",
    "warnings.filterwarnings(\"ignore\", category=RuntimeWarning)\n",
    "%plotly inline"
   ]
  },
  {
   "cell_type": "code",
   "execution_count": null,
   "id": "adee3cb4",
   "metadata": {
    "execution": {
     "iopub.status.busy": "2024-08-16T20:00:51.051986Z",
     "iopub.status.idle": "2024-08-16T20:00:51.052602Z",
     "shell.execute_reply": "2024-08-16T20:00:51.052316Z",
     "shell.execute_reply.started": "2024-08-16T20:00:51.052286Z"
    },
    "papermill": {
     "duration": null,
     "end_time": null,
     "exception": null,
     "start_time": null,
     "status": "pending"
    },
    "tags": []
   },
   "outputs": [],
   "source": [
    "### we just care to small part of the data which is Egypt so let's get that part "
   ]
  },
  {
   "cell_type": "code",
   "execution_count": null,
   "id": "fb8ada6c",
   "metadata": {
    "execution": {
     "iopub.status.busy": "2024-08-16T20:00:51.054140Z",
     "iopub.status.idle": "2024-08-16T20:00:51.054621Z",
     "shell.execute_reply": "2024-08-16T20:00:51.054406Z",
     "shell.execute_reply.started": "2024-08-16T20:00:51.054386Z"
    },
    "papermill": {
     "duration": null,
     "end_time": null,
     "exception": null,
     "start_time": null,
     "status": "pending"
    },
    "tags": []
   },
   "outputs": [],
   "source": [
    "### now we have got Egyptian part lets Run EDA\n",
    "### first we need to remove corrbuted  and unusefull columns \n",
    "# we have to find the meaning of B ,M ,Y in the prod_size deveopment state"
   ]
  },
  {
   "cell_type": "code",
   "execution_count": null,
   "id": "a3072e8f",
   "metadata": {
    "execution": {
     "iopub.execute_input": "2024-08-16T20:00:51.071146Z",
     "iopub.status.busy": "2024-08-16T20:00:51.070695Z",
     "iopub.status.idle": "2024-08-16T20:00:52.855300Z",
     "shell.execute_reply": "2024-08-16T20:00:52.854155Z",
     "shell.execute_reply.started": "2024-08-16T20:00:51.071114Z"
    },
    "papermill": {
     "duration": null,
     "end_time": null,
     "exception": null,
     "start_time": null,
     "status": "pending"
    },
    "tags": []
   },
   "outputs": [],
   "source": [
    " # 1) importing and reading CSV File data\n",
    "df=pd.read_csv(\"/kaggle/input/mineral-ores-around-the-world/Mineral ores round the world.csv\")\n",
    "    # 2) getting egypt part of the data\n",
    "df=df[df[\"country\"]==\"India\"]\n",
    "    # 3) drop columns from the data\n",
    "df.drop(columns=['region', 'country', 'state' ,'com_type'] , inplace=True)\n",
    "df.head()"
   ]
  },
  {
   "cell_type": "markdown",
   "id": "728a2ee7",
   "metadata": {
    "papermill": {
     "duration": null,
     "end_time": null,
     "exception": null,
     "start_time": null,
     "status": "pending"
    },
    "tags": []
   },
   "source": [
    "### Columns description\n",
    "​\n",
    "The informations are taken from https://mrdata.usgs.gov/mrds/about.php\n",
    "​\n",
    "* **com_type**: Type of commodities present: metallic (M), non-metallic (N), or both (B)\n",
    "* **commod1**: Primary commodities present\n",
    "* **commod2**: Secondary commodities present\n",
    "* **dep_type**: General type of deposit or resource present at the site\n",
    "* **prod_size**: A broad characterization of the magnitude of production at the site\n",
    "* **dev_stat**: Status of devopment of the resource or operation\n",
    "* **ore**: Name of the ore mineral or material found in this deposit\n",
    "* **gangue**: Name of the gangue mineral or material found in this deposit.\n",
    "* **work_type**: General type of workings at the site\n",
    "* **names**: Names by which the site or operation has bee known in the past.\n",
    "* **ore_ctrl**: Geologic features, typically structural, that exert control over the form, extent, or character of the deposit.\n",
    "* **hrock_type**: Controlled term(s) indicating the type of host rocks, taken from Lithclass 6.2\n",
    "* **arock_type**: Controlled term(s) indicating the type of associated rocks, taken from Lithclass 6.2"
   ]
  },
  {
   "cell_type": "markdown",
   "id": "37382004",
   "metadata": {
    "papermill": {
     "duration": null,
     "end_time": null,
     "exception": null,
     "start_time": null,
     "status": "pending"
    },
    "tags": []
   },
   "source": [
    "1)  pd.read_csv() is a function from the pandas library used to read data from a CSV (Comma Separated Values) file and load it into a DataFrame (a table-like data structure in pandas).\n",
    "\n",
    "The file path \"/kaggle/input/mineral-ores-around-the-world/Mineral ores round the world.csv\" indicates the location of the CSV file. This file likely contains data on mineral ores from various countries around the world.\n",
    "2)  This line filters the DataFrame to only include rows where the country column has the value \"Egypt\".\n",
    "\n",
    "The result is a new DataFrame df that contains only the data relevant to Egypt.\n",
    "\n",
    "3)  The drop() function is used to remove specific columns from the DataFrame.\n",
    "\n",
    "The columns specified in the list ['region', 'country', 'state', 'com_type'] are dropped from the DataFrame.\n",
    "\n",
    "inplace=True means that the changes are applied directly to the original DataFrame df, rather than creating a copy of it.\n",
    "\n",
    "df.head() displays the first 5 rows of the DataFrame df. This is a common method to quickly inspect the data and see the structure and content after the previous operations."
   ]
  },
  {
   "cell_type": "code",
   "execution_count": null,
   "id": "fb4a7329",
   "metadata": {
    "execution": {
     "iopub.execute_input": "2024-08-16T20:00:52.858453Z",
     "iopub.status.busy": "2024-08-16T20:00:52.857951Z",
     "iopub.status.idle": "2024-08-16T20:00:52.864360Z",
     "shell.execute_reply": "2024-08-16T20:00:52.862899Z",
     "shell.execute_reply.started": "2024-08-16T20:00:52.858390Z"
    },
    "papermill": {
     "duration": null,
     "end_time": null,
     "exception": null,
     "start_time": null,
     "status": "pending"
    },
    "tags": []
   },
   "outputs": [],
   "source": [
    "### exploring the data "
   ]
  },
  {
   "cell_type": "code",
   "execution_count": null,
   "id": "ca406a88",
   "metadata": {
    "execution": {
     "iopub.execute_input": "2024-08-16T20:00:52.866667Z",
     "iopub.status.busy": "2024-08-16T20:00:52.866147Z",
     "iopub.status.idle": "2024-08-16T20:00:52.889848Z",
     "shell.execute_reply": "2024-08-16T20:00:52.888746Z",
     "shell.execute_reply.started": "2024-08-16T20:00:52.866630Z"
    },
    "papermill": {
     "duration": null,
     "end_time": null,
     "exception": null,
     "start_time": null,
     "status": "pending"
    },
    "tags": []
   },
   "outputs": [],
   "source": [
    "df.info()"
   ]
  },
  {
   "cell_type": "markdown",
   "id": "51887d1d",
   "metadata": {
    "papermill": {
     "duration": null,
     "end_time": null,
     "exception": null,
     "start_time": null,
     "status": "pending"
    },
    "tags": []
   },
   "source": [
    "The dataset is quite messy, with numerous unknown or NA values, requiring significant cleaning and filling of missing data. We'll need to remove any irrelevant data. Our goal is to create a new column for minerals by consolidating the information from the commod1, commod2, and commod3 columns.\n",
    "\n"
   ]
  },
  {
   "cell_type": "markdown",
   "id": "663e7458",
   "metadata": {
    "papermill": {
     "duration": null,
     "end_time": null,
     "exception": null,
     "start_time": null,
     "status": "pending"
    },
    "tags": []
   },
   "source": [
    "we take the three commod columns in seperated data form to clean them and create minerals column then we just add it to main data frame"
   ]
  },
  {
   "cell_type": "code",
   "execution_count": null,
   "id": "f9bb37da",
   "metadata": {
    "execution": {
     "iopub.execute_input": "2024-08-16T20:00:52.891476Z",
     "iopub.status.busy": "2024-08-16T20:00:52.891108Z",
     "iopub.status.idle": "2024-08-16T20:00:52.907476Z",
     "shell.execute_reply": "2024-08-16T20:00:52.905859Z",
     "shell.execute_reply.started": "2024-08-16T20:00:52.891420Z"
    },
    "papermill": {
     "duration": null,
     "end_time": null,
     "exception": null,
     "start_time": null,
     "status": "pending"
    },
    "tags": []
   },
   "outputs": [],
   "source": [
    "minr=df[[\"commod1\" ,\"commod2\", \"commod3\"]]\n",
    "minr=minr.fillna(\"\")\n"
   ]
  },
  {
   "cell_type": "markdown",
   "id": "dd10c1f1",
   "metadata": {
    "papermill": {
     "duration": null,
     "end_time": null,
     "exception": null,
     "start_time": null,
     "status": "pending"
    },
    "tags": []
   },
   "source": [
    "A new DataFrame (or a subset of columns) called `minr` that contains only the columns commod1, commod2, and commod3 from the original DataFrame `df` is created.\n",
    "* *Why it is useful*:It is often done when you want to focus on or manipulate only a specific subset of columns from a larger DataFrame.\n",
    "\n",
    "`minr = minr.fillna(\"\")`  replaces all the NaN (missing or NA) values in the minr DataFrame with empty strings (\"\").\n",
    "* *Why it's useful*: By filling missing values with empty strings, you ensure that when you perform operations like concatenation or joining on these columns, the missing values won't cause issues or result in NaN values in the final output. It effectively \"cleans\" the data by removing the NaN values."
   ]
  },
  {
   "cell_type": "code",
   "execution_count": null,
   "id": "77ad5c93",
   "metadata": {
    "execution": {
     "iopub.execute_input": "2024-08-16T20:00:52.911729Z",
     "iopub.status.busy": "2024-08-16T20:00:52.911323Z",
     "iopub.status.idle": "2024-08-16T20:00:52.930859Z",
     "shell.execute_reply": "2024-08-16T20:00:52.929535Z",
     "shell.execute_reply.started": "2024-08-16T20:00:52.911697Z"
    },
    "papermill": {
     "duration": null,
     "end_time": null,
     "exception": null,
     "start_time": null,
     "status": "pending"
    },
    "tags": []
   },
   "outputs": [],
   "source": [
    "minr[\"minerals\"]=minr[\"commod1\"].astype(str)+(\" \") + minr['commod2'].astype(str)+(\" \")+minr[\"commod3\"]\n",
    "minr.head()"
   ]
  },
  {
   "cell_type": "markdown",
   "id": "71bfdbda",
   "metadata": {
    "papermill": {
     "duration": null,
     "end_time": null,
     "exception": null,
     "start_time": null,
     "status": "pending"
    },
    "tags": []
   },
   "source": [
    "* Creating a New Column: The code is creating a new column in the `minr` DataFrame called `\"minerals\"`.\n",
    "\n",
    "* String Conversion with `astype(str)`: This is important because if any of these columns have numeric or other non-string types, they need to be converted to strings to perform concatenation.\n",
    "\n",
    "* Concatenation:\n",
    "The code concatenates the values from the \"commod1\", \"commod2\", and \"commod3\" columns into a single string for each row.\n",
    "*\" (\" \")\" adds a space between the values from these columns, so they don't just merge into one continuous string.*\n",
    "* Result: \n",
    "The resulting string is stored in the new \"minerals\" column. This column will contain a single string per row, formed by combining the values of \"commod1\", \"commod2\", and \"commod3\" with spaces in between.\n",
    "* `minr.head()`\n",
    "*What it does: This line displays the first five rows of the `minr` DataFrame.\n",
    "*Why it's useful: This allows you to quickly check the output of the operation, ensuring that the new \"minerals\" column has been created correctly and contains the expected concatenated values."
   ]
  },
  {
   "cell_type": "code",
   "execution_count": null,
   "id": "c80db480",
   "metadata": {
    "execution": {
     "iopub.execute_input": "2024-08-16T20:00:52.932630Z",
     "iopub.status.busy": "2024-08-16T20:00:52.932269Z",
     "iopub.status.idle": "2024-08-16T20:00:52.953692Z",
     "shell.execute_reply": "2024-08-16T20:00:52.952205Z",
     "shell.execute_reply.started": "2024-08-16T20:00:52.932599Z"
    },
    "papermill": {
     "duration": null,
     "end_time": null,
     "exception": null,
     "start_time": null,
     "status": "pending"
    },
    "tags": []
   },
   "outputs": [],
   "source": [
    "minr.drop(columns=[\"commod1\",'commod2','commod3'], inplace=True)\n",
    "minr.head()"
   ]
  },
  {
   "cell_type": "markdown",
   "id": "06643b11",
   "metadata": {
    "papermill": {
     "duration": null,
     "end_time": null,
     "exception": null,
     "start_time": null,
     "status": "pending"
    },
    "tags": []
   },
   "source": [
    "* Dropping Columns:\n",
    "\n",
    "The `drop()` method is used to remove specified columns or rows from a DataFrame.\n",
    "In this case, the code specifies the `columns` parameter with a list of column names: `[\"commod1\", 'commod2', 'commod3']`. This tells pandas to drop these three columns from the minr DataFrame.\n",
    "inplace=True:\n",
    "\n",
    "* The `inplace=True` argument means that the operation will modify the `minr` DataFrame directly, rather than returning a new DataFrame with the specified columns removed.\n",
    "\n",
    "\n",
    "If inplace were set to False, you would need to assign the result to a new variable or back to minr to see the effect."
   ]
  },
  {
   "cell_type": "code",
   "execution_count": null,
   "id": "705f5ba1",
   "metadata": {
    "execution": {
     "iopub.execute_input": "2024-08-16T20:00:52.955880Z",
     "iopub.status.busy": "2024-08-16T20:00:52.955400Z",
     "iopub.status.idle": "2024-08-16T20:00:52.965789Z",
     "shell.execute_reply": "2024-08-16T20:00:52.964521Z",
     "shell.execute_reply.started": "2024-08-16T20:00:52.955836Z"
    },
    "papermill": {
     "duration": null,
     "end_time": null,
     "exception": null,
     "start_time": null,
     "status": "pending"
    },
    "tags": []
   },
   "outputs": [],
   "source": [
    "#now i have clean column for minerals and i will attached this column to the rest of data "
   ]
  },
  {
   "cell_type": "code",
   "execution_count": null,
   "id": "7f23555f",
   "metadata": {
    "execution": {
     "iopub.execute_input": "2024-08-16T20:00:52.967801Z",
     "iopub.status.busy": "2024-08-16T20:00:52.967302Z",
     "iopub.status.idle": "2024-08-16T20:00:52.991905Z",
     "shell.execute_reply": "2024-08-16T20:00:52.990630Z",
     "shell.execute_reply.started": "2024-08-16T20:00:52.967765Z"
    },
    "papermill": {
     "duration": null,
     "end_time": null,
     "exception": null,
     "start_time": null,
     "status": "pending"
    },
    "tags": []
   },
   "outputs": [],
   "source": [
    "df = pd.concat([df, minr], axis=\"columns\")\n",
    "# to check every thing added well\n",
    "df[[\"commod1\", \"commod2\",\"commod3\", \"minerals\"]]"
   ]
  },
  {
   "cell_type": "markdown",
   "id": "dbb10cdf",
   "metadata": {
    "papermill": {
     "duration": null,
     "end_time": null,
     "exception": null,
     "start_time": null,
     "status": "pending"
    },
    "tags": []
   },
   "source": [
    "* The `pd.concat()` function is used to concatenate two DataFrames `(df and minr)` along a specified axis.\n",
    "* `axis=\"columns\" ` means that the concatenation will be done horizontally, i.e., column-wise. This adds the columns of `minr` to the existing columns of `df`.\n",
    "* Why It's Useful: This combine the original `df` DataFrame with the new `minr` DataFrame (which includes the \"minerals\" column). After concatenation, `df` will contain all its original columns plus the new `\"minerals\"` column from `minr`.\n",
    "* `df[[\"commod1\", \"commod2\", \"commod3\", \"minerals\"]]`:\n",
    "This line selects and displays only the columns` [\"commod1\", \"commod2\", \"commod3\", \"minerals\"] `from the updated df DataFrame.\n",
    "This is often done to verify that the desired columns are present and correctly updated in the DataFrame."
   ]
  },
  {
   "cell_type": "code",
   "execution_count": null,
   "id": "380d742f",
   "metadata": {
    "execution": {
     "iopub.execute_input": "2024-08-16T20:00:52.993866Z",
     "iopub.status.busy": "2024-08-16T20:00:52.993413Z",
     "iopub.status.idle": "2024-08-16T20:00:53.023119Z",
     "shell.execute_reply": "2024-08-16T20:00:53.021901Z",
     "shell.execute_reply.started": "2024-08-16T20:00:52.993832Z"
    },
    "papermill": {
     "duration": null,
     "end_time": null,
     "exception": null,
     "start_time": null,
     "status": "pending"
    },
    "tags": []
   },
   "outputs": [],
   "source": [
    "# get rid of the commod's columns\n",
    "df.drop(columns=[\"commod1\", \"commod2\", \"commod3\"], inplace=True)\n",
    "df.head()"
   ]
  },
  {
   "cell_type": "code",
   "execution_count": null,
   "id": "e7de56e8",
   "metadata": {
    "execution": {
     "iopub.execute_input": "2024-08-16T20:00:53.025404Z",
     "iopub.status.busy": "2024-08-16T20:00:53.024993Z",
     "iopub.status.idle": "2024-08-16T20:00:53.053042Z",
     "shell.execute_reply": "2024-08-16T20:00:53.051540Z",
     "shell.execute_reply.started": "2024-08-16T20:00:53.025372Z"
    },
    "papermill": {
     "duration": null,
     "end_time": null,
     "exception": null,
     "start_time": null,
     "status": "pending"
    },
    "tags": []
   },
   "outputs": [],
   "source": [
    "#drop some more unusful data\n",
    "df.drop(columns=[ \"county\"], inplace=True)\n",
    "df.head()"
   ]
  },
  {
   "cell_type": "code",
   "execution_count": null,
   "id": "20d059e2",
   "metadata": {
    "execution": {
     "iopub.execute_input": "2024-08-16T20:00:53.055925Z",
     "iopub.status.busy": "2024-08-16T20:00:53.055405Z",
     "iopub.status.idle": "2024-08-16T20:00:53.061086Z",
     "shell.execute_reply": "2024-08-16T20:00:53.059846Z",
     "shell.execute_reply.started": "2024-08-16T20:00:53.055879Z"
    },
    "papermill": {
     "duration": null,
     "end_time": null,
     "exception": null,
     "start_time": null,
     "status": "pending"
    },
    "tags": []
   },
   "outputs": [],
   "source": [
    "# we can drop the sites without names\n",
    "# maybe this data inputes  as mistakes "
   ]
  },
  {
   "cell_type": "code",
   "execution_count": null,
   "id": "2d0c6b78",
   "metadata": {
    "execution": {
     "iopub.execute_input": "2024-08-16T20:00:53.063376Z",
     "iopub.status.busy": "2024-08-16T20:00:53.063004Z",
     "iopub.status.idle": "2024-08-16T20:00:53.098830Z",
     "shell.execute_reply": "2024-08-16T20:00:53.097530Z",
     "shell.execute_reply.started": "2024-08-16T20:00:53.063345Z"
    },
    "papermill": {
     "duration": null,
     "end_time": null,
     "exception": null,
     "start_time": null,
     "status": "pending"
    },
    "tags": []
   },
   "outputs": [],
   "source": [
    "indexdata = df[ df['site_name'] == 'Unnamed'  ].index\n",
    "df.drop(indexdata , inplace=True)\n",
    "df.head(10)"
   ]
  },
  {
   "cell_type": "markdown",
   "id": "bed61cd5",
   "metadata": {
    "papermill": {
     "duration": null,
     "end_time": null,
     "exception": null,
     "start_time": null,
     "status": "pending"
    },
    "tags": []
   },
   "source": [
    "* Filtering Rows:\n",
    "\n",
    "`df[df['site_name'] == 'Unnamed']` filters the DataFrame `df` to include only those rows where the value in the `\"site_name\" `column is` 'Unnamed'`.\n",
    "\n",
    "This creates a new DataFrame containing only these rows.\n",
    "* Extracting Index:\n",
    "\n",
    "`.index` retrieves the index labels (row numbers) of the filtered DataFrame.\n",
    "`indexdata` now holds these index labels as a pandas Index object.\n",
    " * Why It's Useful:\n",
    "This line identifies which rows have 'Unnamed' in the \"site_name\" column, allowing you to later remove these rows from the original DataFrame."
   ]
  },
  {
   "cell_type": "code",
   "execution_count": null,
   "id": "eedf1c40",
   "metadata": {
    "execution": {
     "iopub.execute_input": "2024-08-16T20:00:53.100906Z",
     "iopub.status.busy": "2024-08-16T20:00:53.100498Z",
     "iopub.status.idle": "2024-08-16T20:00:53.123523Z",
     "shell.execute_reply": "2024-08-16T20:00:53.122107Z",
     "shell.execute_reply.started": "2024-08-16T20:00:53.100874Z"
    },
    "papermill": {
     "duration": null,
     "end_time": null,
     "exception": null,
     "start_time": null,
     "status": "pending"
    },
    "tags": []
   },
   "outputs": [],
   "source": [
    "\n",
    "# from the data noticed most of state column NaN value so removing that column will reduce the data size beside \n",
    "# we still can depend on other column to get the name of the location like \"site_name\" , \"names\" columns\n",
    "\n",
    "df.head()"
   ]
  },
  {
   "cell_type": "code",
   "execution_count": null,
   "id": "b192e577",
   "metadata": {
    "execution": {
     "iopub.execute_input": "2024-08-16T20:00:53.130424Z",
     "iopub.status.busy": "2024-08-16T20:00:53.129951Z",
     "iopub.status.idle": "2024-08-16T20:00:53.217710Z",
     "shell.execute_reply": "2024-08-16T20:00:53.216550Z",
     "shell.execute_reply.started": "2024-08-16T20:00:53.130388Z"
    },
    "papermill": {
     "duration": null,
     "end_time": null,
     "exception": null,
     "start_time": null,
     "status": "pending"
    },
    "tags": []
   },
   "outputs": [],
   "source": [
    "fig=px.scatter_mapbox(df,\n",
    "                     lon=df[\"longitude\"],\n",
    "                     lat=df['latitude'],\n",
    "                      zoom=5 ,\n",
    "                      width=900 ,\n",
    "                      height=800 ,\n",
    "                      title=\"Mines and Plants in India\",\n",
    "                    hover_name='site_name'\n",
    "                     )\n",
    "fig.update_layout(mapbox_style=\"open-street-map\")\n",
    "fig.update_layout(margin={\"r\":0,\"t\":50,\"b\":10})"
   ]
  },
  {
   "cell_type": "markdown",
   "id": "9a9d5085",
   "metadata": {
    "papermill": {
     "duration": null,
     "end_time": null,
     "exception": null,
     "start_time": null,
     "status": "pending"
    },
    "tags": []
   },
   "source": [
    "* `scatter_mapbox` is a function in Plotly, specifically within Plotly Express, that allows you to create scatter plots on top of a Mapbox map. Mapbox is a platform that provides detailed map views and geographic data visualization.\n",
    "\n",
    "* The scatter_mapbox function is particularly useful when you want to visualize geographical data, such as plotting points on a map based on latitude and longitude coordinates.\n",
    "\n",
    "* Key Features of scatter_mapbox:\n",
    "  * Mapping Points: You can plot points on a map based on latitude and longitude. This is ideal for visualizing locations like cities, stores, mines, or any other geographical points of interest.\n",
    "\n",
    "  * Interactivity: The map is interactive, meaning users can zoom, pan, and hover over points to get more information.\n",
    "\n",
    "  * Customization: You can customize the appearance of the map and the points, such as changing colors, sizes, and labels."
   ]
  },
  {
   "cell_type": "markdown",
   "id": "f8d5cc08",
   "metadata": {
    "papermill": {
     "duration": null,
     "end_time": null,
     "exception": null,
     "start_time": null,
     "status": "pending"
    },
    "tags": []
   },
   "source": [
    "* `hover_name`: Specifies what data should be shown when a user hovers over a point. For instance, hovering over a mine or plant will show its name.\n",
    "\n",
    "* Layout and Customization\n",
    "The layout of a scatter_mapbox figure can be customized extensively using the update_layout method. Here's a deeper look into the layout customization options:\n",
    "\n",
    "1. Mapbox Style:\n",
    "`mapbox_style`: This defines the appearance of the map (e.g., \"open-street-map\", \"carto-positron\", \"stamen-terrain\", etc.).\n",
    "`open-street-map`: This is a commonly used map style that shows streets, roads, and other detailed features. It’s an open-source, community-driven map style.\n",
    "2. Margins:\n",
    "The margin parameter allows you to control the spacing around the map. This is useful for ensuring that your title or other elements do not overlap with the map itself.\n",
    "python\n",
    "\n",
    "`fig.update_layout(margin={\"r\":0,\"t\":50,\"b\":10})`\n",
    "\n",
    "\"r\": 0: No right margin.\n",
    "\n",
    "\"t\": 50: A 50-pixel top margin, which provides space for the title.\n",
    "\n",
    "\"b\": 10: A 10-pixel bottom margin, to slightly lift the map from the bottom edge."
   ]
  },
  {
   "cell_type": "markdown",
   "id": "7bebd9d9",
   "metadata": {
    "papermill": {
     "duration": null,
     "end_time": null,
     "exception": null,
     "start_time": null,
     "status": "pending"
    },
    "tags": []
   },
   "source": [
    "# Now we can subsite the data depending on what we need and reply on most of the queations : \n"
   ]
  },
  {
   "cell_type": "markdown",
   "id": "355bebe5",
   "metadata": {
    "papermill": {
     "duration": null,
     "end_time": null,
     "exception": null,
     "start_time": null,
     "status": "pending"
    },
    "tags": []
   },
   "source": [
    "# where the occurence where haven't been developed ?\n"
   ]
  },
  {
   "cell_type": "code",
   "execution_count": null,
   "id": "276253e1",
   "metadata": {
    "execution": {
     "iopub.execute_input": "2024-08-16T20:00:53.219880Z",
     "iopub.status.busy": "2024-08-16T20:00:53.219380Z",
     "iopub.status.idle": "2024-08-16T20:00:53.246523Z",
     "shell.execute_reply": "2024-08-16T20:00:53.245047Z",
     "shell.execute_reply.started": "2024-08-16T20:00:53.219823Z"
    },
    "papermill": {
     "duration": null,
     "end_time": null,
     "exception": null,
     "start_time": null,
     "status": "pending"
    },
    "tags": []
   },
   "outputs": [],
   "source": [
    "occ=df[df[\"dev_stat\"]==\"Occurrence\"]\n",
    "occ.head()"
   ]
  },
  {
   "cell_type": "code",
   "execution_count": null,
   "id": "daa1c541",
   "metadata": {
    "execution": {
     "iopub.execute_input": "2024-08-16T20:00:53.248578Z",
     "iopub.status.busy": "2024-08-16T20:00:53.247983Z",
     "iopub.status.idle": "2024-08-16T20:00:53.326865Z",
     "shell.execute_reply": "2024-08-16T20:00:53.325675Z",
     "shell.execute_reply.started": "2024-08-16T20:00:53.248542Z"
    },
    "papermill": {
     "duration": null,
     "end_time": null,
     "exception": null,
     "start_time": null,
     "status": "pending"
    },
    "tags": []
   },
   "outputs": [],
   "source": [
    "fig=px.scatter_mapbox(occ,\n",
    "                     lon=occ[\"longitude\"],\n",
    "                     lat=occ['latitude'],\n",
    "                      zoom=5 ,\n",
    "                      width=900 ,\n",
    "                      height=800 ,\n",
    "                      title=\"Occurrence mines\",\n",
    "                    hover_name='site_name'\n",
    "                     )\n",
    "fig.update_layout(mapbox_style=\"open-street-map\")\n",
    "fig.update_layout(margin={\"r\":0,\"t\":50,\"b\":10})"
   ]
  },
  {
   "cell_type": "code",
   "execution_count": null,
   "id": "111e1150",
   "metadata": {
    "execution": {
     "iopub.execute_input": "2024-08-16T20:21:40.264373Z",
     "iopub.status.busy": "2024-08-16T20:21:40.263946Z",
     "iopub.status.idle": "2024-08-16T20:21:41.075522Z",
     "shell.execute_reply": "2024-08-16T20:21:41.074207Z",
     "shell.execute_reply.started": "2024-08-16T20:21:40.264338Z"
    },
    "papermill": {
     "duration": null,
     "end_time": null,
     "exception": null,
     "start_time": null,
     "status": "pending"
    },
    "tags": []
   },
   "outputs": [],
   "source": [
    "\n",
    "\n",
    "# Filter the DataFrame to include only \"Occurrence\" mines\n",
    "occ = df[df[\"dev_stat\"] == \"Occurrence\"]\n",
    "\n",
    "# Count occurrences of mines by state\n",
    "occ_count = occ['site_name'].value_counts().reset_index()\n",
    "occ_count.columns = ['site_name', 'num_occurrences']\n",
    "\n",
    "# Plotting the bar graph using Plotly\n",
    "fig = px.bar(\n",
    "    occ_count,\n",
    "    x='site_name',\n",
    "    y='num_occurrences',\n",
    "    title=' Occurrence Mines by Site Name in India',\n",
    "    labels={'site_name': 'site_name', 'num_occurrences': 'Number of Occurrence Mines'},\n",
    "    color='site_name',  # Optional: Adds different colors for each state\n",
    "    height=800\n",
    ")\n",
    "\n",
    "# Show the plot\n",
    "fig.show()"
   ]
  },
  {
   "cell_type": "markdown",
   "id": "9e5b822d",
   "metadata": {
    "papermill": {
     "duration": null,
     "end_time": null,
     "exception": null,
     "start_time": null,
     "status": "pending"
    },
    "tags": []
   },
   "source": [
    "# # where is the producer mines "
   ]
  },
  {
   "cell_type": "code",
   "execution_count": null,
   "id": "c18510ab",
   "metadata": {
    "execution": {
     "iopub.execute_input": "2024-08-16T20:00:53.329011Z",
     "iopub.status.busy": "2024-08-16T20:00:53.328540Z",
     "iopub.status.idle": "2024-08-16T20:00:53.353997Z",
     "shell.execute_reply": "2024-08-16T20:00:53.352593Z",
     "shell.execute_reply.started": "2024-08-16T20:00:53.328966Z"
    },
    "papermill": {
     "duration": null,
     "end_time": null,
     "exception": null,
     "start_time": null,
     "status": "pending"
    },
    "tags": []
   },
   "outputs": [],
   "source": [
    "prod=df[df[\"dev_stat\"]==\"Producer\"]\n",
    "prod.head()\n"
   ]
  },
  {
   "cell_type": "code",
   "execution_count": null,
   "id": "8d6b6898",
   "metadata": {
    "execution": {
     "iopub.execute_input": "2024-08-16T20:00:53.355795Z",
     "iopub.status.busy": "2024-08-16T20:00:53.355401Z",
     "iopub.status.idle": "2024-08-16T20:00:53.436009Z",
     "shell.execute_reply": "2024-08-16T20:00:53.434806Z",
     "shell.execute_reply.started": "2024-08-16T20:00:53.355764Z"
    },
    "papermill": {
     "duration": null,
     "end_time": null,
     "exception": null,
     "start_time": null,
     "status": "pending"
    },
    "tags": []
   },
   "outputs": [],
   "source": [
    "fig=px.scatter_mapbox(prod,\n",
    "                     lon=prod[\"longitude\"],\n",
    "                     lat=prod['latitude'],\n",
    "                      zoom=5 ,\n",
    "                      width=900 ,\n",
    "                      height=800 ,\n",
    "                      title=\"Producer mines\",\n",
    "                    hover_name='site_name'\n",
    "                     )\n",
    "fig.update_layout(mapbox_style=\"open-street-map\")\n",
    "fig.update_layout(margin={\"r\":0,\"t\":50,\"b\":10})"
   ]
  },
  {
   "cell_type": "markdown",
   "id": "1d37e0a6",
   "metadata": {
    "papermill": {
     "duration": null,
     "end_time": null,
     "exception": null,
     "start_time": null,
     "status": "pending"
    },
    "tags": []
   },
   "source": [
    "# # where the past producer mines"
   ]
  },
  {
   "cell_type": "code",
   "execution_count": null,
   "id": "2933a21c",
   "metadata": {
    "execution": {
     "iopub.execute_input": "2024-08-16T20:00:53.437840Z",
     "iopub.status.busy": "2024-08-16T20:00:53.437500Z",
     "iopub.status.idle": "2024-08-16T20:00:53.461228Z",
     "shell.execute_reply": "2024-08-16T20:00:53.459988Z",
     "shell.execute_reply.started": "2024-08-16T20:00:53.437811Z"
    },
    "papermill": {
     "duration": null,
     "end_time": null,
     "exception": null,
     "start_time": null,
     "status": "pending"
    },
    "tags": []
   },
   "outputs": [],
   "source": [
    "p_prod=df[df[\"dev_stat\"]==\"Past Producer\"]\n",
    "p_prod.head()"
   ]
  },
  {
   "cell_type": "code",
   "execution_count": null,
   "id": "de3b4e22",
   "metadata": {
    "execution": {
     "iopub.execute_input": "2024-08-16T20:00:53.463250Z",
     "iopub.status.busy": "2024-08-16T20:00:53.462866Z",
     "iopub.status.idle": "2024-08-16T20:00:53.547308Z",
     "shell.execute_reply": "2024-08-16T20:00:53.546143Z",
     "shell.execute_reply.started": "2024-08-16T20:00:53.463217Z"
    },
    "papermill": {
     "duration": null,
     "end_time": null,
     "exception": null,
     "start_time": null,
     "status": "pending"
    },
    "tags": []
   },
   "outputs": [],
   "source": [
    "fig=px.scatter_mapbox(p_prod,\n",
    "                     lon=p_prod[\"longitude\"],\n",
    "                     lat=p_prod['latitude'],\n",
    "                      zoom=5 ,\n",
    "                      width=900 ,\n",
    "                      height=800 ,\n",
    "                      title=\"Past Producer\",\n",
    "                    hover_name='site_name'\n",
    "                     )\n",
    "fig.update_layout(mapbox_style=\"open-street-map\")\n",
    "fig.update_layout(margin={\"r\":0,\"t\":50,\"b\":10})"
   ]
  },
  {
   "cell_type": "markdown",
   "id": "5f1902e1",
   "metadata": {
    "papermill": {
     "duration": null,
     "end_time": null,
     "exception": null,
     "start_time": null,
     "status": "pending"
    },
    "tags": []
   },
   "source": [
    "# # where is the processing plants ?"
   ]
  },
  {
   "cell_type": "code",
   "execution_count": null,
   "id": "037eb336",
   "metadata": {
    "execution": {
     "iopub.execute_input": "2024-08-16T20:00:53.548942Z",
     "iopub.status.busy": "2024-08-16T20:00:53.548618Z",
     "iopub.status.idle": "2024-08-16T20:00:53.571664Z",
     "shell.execute_reply": "2024-08-16T20:00:53.570358Z",
     "shell.execute_reply.started": "2024-08-16T20:00:53.548913Z"
    },
    "papermill": {
     "duration": null,
     "end_time": null,
     "exception": null,
     "start_time": null,
     "status": "pending"
    },
    "tags": []
   },
   "outputs": [],
   "source": [
    "p_p=df[df[\"dev_stat\"]==\"Plant\"]\n",
    "p_p.head()"
   ]
  },
  {
   "cell_type": "code",
   "execution_count": null,
   "id": "034f35a6",
   "metadata": {
    "execution": {
     "iopub.execute_input": "2024-08-16T20:00:53.573796Z",
     "iopub.status.busy": "2024-08-16T20:00:53.573276Z",
     "iopub.status.idle": "2024-08-16T20:00:53.653926Z",
     "shell.execute_reply": "2024-08-16T20:00:53.652764Z",
     "shell.execute_reply.started": "2024-08-16T20:00:53.573752Z"
    },
    "papermill": {
     "duration": null,
     "end_time": null,
     "exception": null,
     "start_time": null,
     "status": "pending"
    },
    "tags": []
   },
   "outputs": [],
   "source": [
    "fig=px.scatter_mapbox(p_p,\n",
    "                     lon=p_p[\"longitude\"],\n",
    "                     lat=p_p['latitude'],\n",
    "                      zoom=5 ,\n",
    "                      width=900 ,\n",
    "                      height=800 ,\n",
    "                      title=\"Processing Plants\",\n",
    "                    hover_name='site_name'\n",
    "                     )\n",
    "fig.update_layout(mapbox_style=\"open-street-map\")\n",
    "fig.update_layout(margin={\"r\":0,\"t\":50,\"b\":10})"
   ]
  },
  {
   "cell_type": "markdown",
   "id": "d1f4ca0c",
   "metadata": {
    "papermill": {
     "duration": null,
     "end_time": null,
     "exception": null,
     "start_time": null,
     "status": "pending"
    },
    "tags": []
   },
   "source": [
    "# # where we can find Gold and Silver ?"
   ]
  },
  {
   "cell_type": "code",
   "execution_count": null,
   "id": "d688046e",
   "metadata": {
    "execution": {
     "iopub.execute_input": "2024-08-16T20:00:53.655842Z",
     "iopub.status.busy": "2024-08-16T20:00:53.655368Z",
     "iopub.status.idle": "2024-08-16T20:00:53.671625Z",
     "shell.execute_reply": "2024-08-16T20:00:53.670369Z",
     "shell.execute_reply.started": "2024-08-16T20:00:53.655791Z"
    },
    "papermill": {
     "duration": null,
     "end_time": null,
     "exception": null,
     "start_time": null,
     "status": "pending"
    },
    "tags": []
   },
   "outputs": [],
   "source": [
    "\n",
    "gold=df[df[\"minerals\"]==\"Gold Silver \"]\n",
    "gold.head()\n"
   ]
  },
  {
   "cell_type": "code",
   "execution_count": null,
   "id": "8da03726",
   "metadata": {
    "execution": {
     "iopub.execute_input": "2024-08-16T20:00:53.673945Z",
     "iopub.status.busy": "2024-08-16T20:00:53.673543Z",
     "iopub.status.idle": "2024-08-16T20:00:53.752535Z",
     "shell.execute_reply": "2024-08-16T20:00:53.751255Z",
     "shell.execute_reply.started": "2024-08-16T20:00:53.673911Z"
    },
    "papermill": {
     "duration": null,
     "end_time": null,
     "exception": null,
     "start_time": null,
     "status": "pending"
    },
    "tags": []
   },
   "outputs": [],
   "source": [
    "fig=px.scatter_mapbox(gold,\n",
    "                     lon=gold[\"longitude\"],\n",
    "                     lat=gold['latitude'],\n",
    "                      zoom=5 ,\n",
    "                      width=900 ,\n",
    "                      height=800 ,\n",
    "                      title=\"Gold and Silver\",\n",
    "                    hover_name='site_name'\n",
    "                     )\n",
    "fig.update_layout(mapbox_style=\"open-street-map\")\n",
    "fig.update_layout(margin={\"r\":0,\"t\":50,\"b\":10})"
   ]
  },
  {
   "cell_type": "markdown",
   "id": "c7f7ce53",
   "metadata": {
    "papermill": {
     "duration": null,
     "end_time": null,
     "exception": null,
     "start_time": null,
     "status": "pending"
    },
    "tags": []
   },
   "source": [
    "# # where we can find Gold alone ?"
   ]
  },
  {
   "cell_type": "code",
   "execution_count": null,
   "id": "7693247e",
   "metadata": {
    "execution": {
     "iopub.execute_input": "2024-08-16T20:00:53.754567Z",
     "iopub.status.busy": "2024-08-16T20:00:53.754086Z",
     "iopub.status.idle": "2024-08-16T20:00:53.778234Z",
     "shell.execute_reply": "2024-08-16T20:00:53.777075Z",
     "shell.execute_reply.started": "2024-08-16T20:00:53.754525Z"
    },
    "papermill": {
     "duration": null,
     "end_time": null,
     "exception": null,
     "start_time": null,
     "status": "pending"
    },
    "tags": []
   },
   "outputs": [],
   "source": [
    "gold_alone=df[df[\"minerals\"]==\"Gold  \"]\n",
    "gold_alone.head()"
   ]
  },
  {
   "cell_type": "code",
   "execution_count": null,
   "id": "b2e483f1",
   "metadata": {
    "execution": {
     "iopub.execute_input": "2024-08-16T20:00:53.780138Z",
     "iopub.status.busy": "2024-08-16T20:00:53.779756Z",
     "iopub.status.idle": "2024-08-16T20:00:53.858981Z",
     "shell.execute_reply": "2024-08-16T20:00:53.857955Z",
     "shell.execute_reply.started": "2024-08-16T20:00:53.780105Z"
    },
    "papermill": {
     "duration": null,
     "end_time": null,
     "exception": null,
     "start_time": null,
     "status": "pending"
    },
    "tags": []
   },
   "outputs": [],
   "source": [
    "fig=px.scatter_mapbox(gold_alone,\n",
    "                     lon=gold_alone[\"longitude\"],\n",
    "                     lat=gold_alone['latitude'],\n",
    "                      zoom=5 ,\n",
    "                      width=900 ,\n",
    "                      height=800 ,\n",
    "                      title=\"Gold mines\",\n",
    "                    hover_name='site_name'\n",
    "                     )\n",
    "fig.update_layout(mapbox_style=\"open-street-map\")\n",
    "fig.update_layout(margin={\"r\":0,\"t\":50,\"b\":10})"
   ]
  },
  {
   "cell_type": "code",
   "execution_count": null,
   "id": "214056e0",
   "metadata": {
    "papermill": {
     "duration": null,
     "end_time": null,
     "exception": null,
     "start_time": null,
     "status": "pending"
    },
    "tags": []
   },
   "outputs": [],
   "source": []
  }
 ],
 "metadata": {
  "kaggle": {
   "accelerator": "none",
   "dataSources": [
    {
     "datasetId": 1707504,
     "sourceId": 3535844,
     "sourceType": "datasetVersion"
    }
   ],
   "dockerImageVersionId": 30587,
   "isGpuEnabled": false,
   "isInternetEnabled": false,
   "language": "python",
   "sourceType": "notebook"
  },
  "kernelspec": {
   "display_name": "Python 3",
   "language": "python",
   "name": "python3"
  },
  "language_info": {
   "codemirror_mode": {
    "name": "ipython",
    "version": 3
   },
   "file_extension": ".py",
   "mimetype": "text/x-python",
   "name": "python",
   "nbconvert_exporter": "python",
   "pygments_lexer": "ipython3",
   "version": "3.10.12"
  },
  "papermill": {
   "default_parameters": {},
   "duration": 6.109957,
   "end_time": "2024-08-16T20:23:34.608065",
   "environment_variables": {},
   "exception": true,
   "input_path": "__notebook__.ipynb",
   "output_path": "__notebook__.ipynb",
   "parameters": {},
   "start_time": "2024-08-16T20:23:28.498108",
   "version": "2.4.0"
  }
 },
 "nbformat": 4,
 "nbformat_minor": 5
}
